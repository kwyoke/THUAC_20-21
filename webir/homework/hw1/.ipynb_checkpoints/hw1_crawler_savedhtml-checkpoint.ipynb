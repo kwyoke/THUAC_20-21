{
 "cells": [
  {
   "cell_type": "code",
   "execution_count": 1,
   "id": "focused-botswana",
   "metadata": {},
   "outputs": [],
   "source": [
    "import requests\n",
    "from bs4 import BeautifulSoup\n",
    "import random\n",
    "import re\n",
    "import json"
   ]
  },
  {
   "cell_type": "code",
   "execution_count": 13,
   "id": "religious-playing",
   "metadata": {},
   "outputs": [],
   "source": [
    "def get_top10(html, se):\n",
    "    top10 = []\n",
    "    soup = BeautifulSoup(open(html), \"html.parser\")\n",
    "    \n",
    "    if se=='BING':\n",
    "        rel_results = soup.find_all('li', class_='b_algo')\n",
    "        i=0\n",
    "        for info in rel_results:\n",
    "            rank = i+1\n",
    "            title = info.find('a').text\n",
    "            link = info.find('a')['href']\n",
    "            res_dict = {'rank': rank, \n",
    "                        'title': title, \n",
    "                        'url': link}\n",
    "            top10.append(res_dict)\n",
    "            i+=1\n",
    "            \n",
    "            if i==10:\n",
    "                break\n",
    "                \n",
    "    elif se=='GOOGLE':\n",
    "        rel_results = soup.find_all('div', class_=\"yuRUbf\")\n",
    "        i=0\n",
    "        for info in rel_results:\n",
    "            rank = i+1\n",
    "            title = info.find('h3').text\n",
    "            link = info.find('a')['href']\n",
    "            res_dict = {'rank': rank, \n",
    "                        'title': title, \n",
    "                        'url': link}\n",
    "            top10.append(res_dict)\n",
    "            i+=1\n",
    "            \n",
    "            if i==10:\n",
    "                break\n",
    "    else:\n",
    "        print(\"Error, SE is neither BING nor GOOGLE\")\n",
    "        \n",
    "            \n",
    "    return top10"
   ]
  },
  {
   "cell_type": "code",
   "execution_count": 20,
   "id": "rocky-meaning",
   "metadata": {},
   "outputs": [],
   "source": [
    "def write_serp_info(serpdict, outfilename):\n",
    "    with open(outfilename, 'w') as outfile:\n",
    "        json.dump(serpdict, outfile)"
   ]
  },
  {
   "cell_type": "code",
   "execution_count": 17,
   "id": "welsh-washington",
   "metadata": {},
   "outputs": [],
   "source": [
    "bing_q1_top10 = get_top10('bing_q1.html', \"BING\")\n",
    "google_q1_top10 = get_top10('google_q1.html', \"GOOGLE\")\n",
    "bing_q2_top10 = get_top10('bing_q2.html', \"BING\")\n",
    "google_q2_top10 = get_top10('google_q2.html', \"GOOGLE\")"
   ]
  },
  {
   "cell_type": "code",
   "execution_count": 21,
   "id": "settled-chamber",
   "metadata": {},
   "outputs": [],
   "source": [
    "outfilenames = ['json/SE_BING_1_2020280598.json', 'json/SE_BING_2_2020280598.json', 'json/SE_GOOGLE_1_2020280598.json','json/SE_GOOGLE_2_2020280598.json']\n",
    "write_serp_info(bing_q1_top10, outfilenames[0])\n",
    "write_serp_info(bing_q2_top10, outfilenames[1])\n",
    "write_serp_info(google_q1_top10, outfilenames[2])\n",
    "write_serp_info(google_q2_top10, outfilenames[3])"
   ]
  },
  {
   "cell_type": "code",
   "execution_count": 22,
   "id": "considerable-dispute",
   "metadata": {},
   "outputs": [
    {
     "name": "stdout",
     "output_type": "stream",
     "text": [
      "------------------------Q1----------------------------\n",
      "{'rank': 1, 'title': 'China-to-Singapore student visa and approval guide during ...', 'url': 'https://www.asiaone.com/lifestyle/china-singapore-student-visa-and-approval-guide-during-covid-pandemic'}\n",
      "{'rank': 1, 'title': 'Chinese Visa Application', 'url': 'http://www.chinaembassy.org.sg/eng/lsfw/fhqz/'}\n",
      "###############\n",
      "{'rank': 2, 'title': 'Visa Application', 'url': 'http://www.chinaembassy.org.sg/eng/lsfw/fhqz/'}\n",
      "{'rank': 2, 'title': 'How Long Does It Take to Get a Chinese Visa 2021/2022', 'url': 'https://www.chinadiscovery.com/chinese-visa/how-long-does-it-take-to-get-a-chinese-visa.html'}\n",
      "###############\n",
      "{'rank': 3, 'title': \"EMBASSY OF THE PEOPLE'S REPUBLIC OF CHINA IN THE …\", 'url': 'http://www.chinaembassy.org.sg/eng/'}\n",
      "{'rank': 3, 'title': 'How to Get a Student Visa for China - MastersPortal.com', 'url': 'https://www.mastersportal.com/articles/1628/how-to-get-a-student-visa-for-china.html'}\n",
      "###############\n",
      "{'rank': 4, 'title': 'Ministry of Foreign Affairs Singapore - Application for ...', 'url': 'https://www.mfa.gov.sg/Overseas-Mission/Beijing/Application-for-Students-Pass'}\n",
      "{'rank': 4, 'title': 'Apply for a US Visa | Track & Retrieve My Passport - USTravelDocs', 'url': 'https://www.ustraveldocs.com/tn/tn-niv-passporttrack.asp'}\n",
      "###############\n",
      "{'rank': 5, 'title': 'China visa, Chinese visas - Singapore - Chinese embassy', 'url': 'http://www.chinese-embassy.info/asia/visa-sgp.htm'}\n",
      "{'rank': 5, 'title': 'Top 8 Reasons Why Your China Visa Gets Rejected - Travel China ...', 'url': 'https://www.travelchinaguide.com/embassy/visa/revoke.htm'}\n",
      "###############\n",
      "{'rank': 6, 'title': 'China Visa application Singapore | China Visa Agent ...', 'url': 'https://ivc-services.com/china-visa-application-embassy-singapore/'}\n",
      "{'rank': 6, 'title': 'FAQS ON THE CHINA- SINGAPORE FAST LANE', 'url': 'http://www.chinaembassy.org.sg/eng/lsfw/fhqz/t1788677.htm'}\n",
      "###############\n",
      "{'rank': 7, 'title': 'ICA | Approved Private Education Institutions', 'url': 'https://www.ica.gov.sg/reside/STP/apply/pei'}\n",
      "{'rank': 7, 'title': \"Embassy of the People's Republic of China in Singapore\", 'url': 'http://www.chinaembassy.org.sg/eng/'}\n",
      "###############\n",
      "{'rank': 8, 'title': 'Chinese Embassy in Singapore: Address, Visa, Contact', 'url': 'https://www.travelchinaguide.com/embassy/singapore.htm'}\n",
      "{'rank': 8, 'title': 'Consular Service', 'url': 'http://www.chinaembassy.org.sg/eng/lsqw/'}\n",
      "###############\n",
      "{'rank': 9, 'title': 'China Student Visa, X1, X2, Study Visa Application ...', 'url': 'https://www.travelchinaguide.com/embassy/visa/student.htm'}\n",
      "{'rank': 9, 'title': 'Requirements for Visa Application(Mainland China)', 'url': 'http://www.chinaembassy.org.sg/eng/lsqw/qz/t582778.htm'}\n",
      "###############\n",
      "{'rank': 10, 'title': 'Singapore Student Visa Guidance - Required documents for ...', 'url': 'https://www.pyramideservices.com/trending/singapore-student-visa/'}\n",
      "{'rank': 10, 'title': 'Guide on Visa for China (Mainland only) Application', 'url': 'http://www.chinaembassy.org.sg/eng/lsfw/fhqz/t1472038.htm'}\n",
      "###############\n",
      " \n",
      "------------------------Q2----------------------------\n",
      "{'rank': 1, 'title': 'Comparing Johnson & Johnson’s Vaccine With Moderna, Pfizer ...', 'url': 'https://observer.com/2021/02/comparing-covid-19-vaccines-pfizer-moderna-johnson-johnson/'}\n",
      "{'rank': 1, 'title': 'UPDATED Comparing COVID-19 Vaccines: Timelines, Types ...', 'url': 'https://www.biospace.com/article/comparing-covid-19-vaccines-pfizer-biontech-moderna-astrazeneca-oxford-j-and-j-russia-s-sputnik-v/'}\n",
      "###############\n",
      "{'rank': 2, 'title': 'How Does the Johnson & Johnson Vaccine Compare to Moderna ...', 'url': 'https://heavy.com/news/johnson-johnson-moderna-pfizer-covid19-vaccine-comparisons/'}\n",
      "{'rank': 2, 'title': 'FDA says single-dose shot from J&J prevents severe COVID - AP News', 'url': 'https://apnews.com/article/fda-j-and-j-vaccine-shot-prevent-covid-6928a9a08526d036a9f8197149c80f06'}\n",
      "###############\n",
      "{'rank': 3, 'title': 'Comparing three Covid-19 vaccines: Pfizer, Moderna, J&J', 'url': 'https://www.statnews.com/2021/02/02/comparing-the-covid-19-vaccines-developed-by-pfizer-moderna-and-johnson-johnson/'}\n",
      "{'rank': 3, 'title': 'COVID-19 Vaccines May Need Updates For Viral Variants : Shots - Health News : NPR', 'url': 'https://www.npr.org/sections/health-shots/2021/02/25/971345409/covid-19-vaccine-makers-booster-shots-aim-at-a-moving-target-coronavirus-variant'}\n",
      "###############\n",
      "{'rank': 4, 'title': 'Johnson & Johnson COVID vaccine compares to Pfizer and …', 'url': 'https://www.mercurynews.com/2021/02/25/how-the-new-one-dose-covid-19-vaccine-compares-to-pfizer-and-moderna/'}\n",
      "{'rank': 4, 'title': 'Can I choose which covid vaccine I get? Pfizer vs. Oxford generates strong opinions in U.K. - The Washington Post', 'url': 'https://www.washingtonpost.com/world/europe/covid-vaccines-choice-pfizer-astrazeneca/2021/02/20/0beaceb0-5f2f-11eb-a177-7765f29a9524_story.html'}\n",
      "###############\n",
      "{'rank': 5, 'title': 'COVID-19 vaccines: What does 95% efficacy actually mean ...', 'url': 'https://www.livescience.com/covid-19-vaccine-efficacy-explained.html'}\n",
      "{'rank': 5, 'title': \"Germans Clamor for Covid Vaccines, but Shun AstraZeneca's Offering - The New York Times\", 'url': 'https://www.nytimes.com/2021/02/25/world/europe/germany-coronavirus-vaccines-astrazeneca.html'}\n",
      "###############\n",
      "{'rank': 6, 'title': 'Pfizer, Moderna, Johnson & Johnson: Comparing the 3 COVID ...', 'url': 'https://www.nbcchicago.com/news/coronavirus/pfizer-moderna-johnson-johnson-comparing-the-3-covid-vaccines-now-available/2450279/'}\n",
      "{'rank': 6, 'title': \"China's single-dose COVID vaccine has efficacy similar to ...\", 'url': 'https://fortune.com/2021/02/09/china-covid-vaccine-single-dose-cansino-johnson-johnson/'}\n",
      "###############\n",
      "{'rank': 7, 'title': 'Pfizer-BioNTech, Moderna and Sinovac: A look at three key ...', 'url': 'https://www.channelnewsasia.com/news/world/covid-19-vaccines-comparison-pfizer-sinovac-moderna-13784890'}\n",
      "{'rank': 7, 'title': \"China's Sinovac explains efficacy of Covid-19 vaccine after ...\", 'url': 'https://www.straitstimes.com/asia/east-asia/chinas-sinovac-explains-efficacy-of-covid-19-vaccine-after-confusing-data'}\n",
      "###############\n",
      "{'rank': 8, 'title': 'Covid vaccine: Comparing J&J, Pfizer, Novavax and Moderna', 'url': 'https://www.cnbc.com/2021/01/29/covid-vaccine-comparing-jnj-pfizer-moderna-novavax.html'}\n",
      "{'rank': 8, 'title': 'The Differences Between the Pfizer, Moderna, and Johnson ...', 'url': 'https://www.kqed.org/science/1972627/the-differences-between-the-pfizer-moderna-and-johnson-johnson-coronavirus-vaccines-explained'}\n",
      "###############\n",
      "{'rank': 9, 'title': 'COVID Vaccine: Where Pfizer, Moderna, Johnson and Johnson ...', 'url': 'https://abc7ny.com/covid-vaccine-pfizer-19-coronavirus/8797962/'}\n",
      "{'rank': 9, 'title': 'Looking beyond COVID-19 vaccine phase 3 trials | Nature ...', 'url': 'https://www.nature.com/articles/s41591-021-01230-y'}\n",
      "###############\n",
      "{'rank': 10, 'title': 'Covid-19 vaccines: Difference between Pfizer & Sinovac ...', 'url': 'https://mothership.sg/2021/02/covid-19-vaccines-the-difference-between-pfizer-sinovac/'}\n",
      "{'rank': 10, 'title': 'One-dose COVID-19 vaccine offers solid protection against ...', 'url': 'https://www.sciencemag.org/news/2021/01/one-dose-covid-19-vaccine-offers-solid-protection-against-severe-disease'}\n",
      "###############\n"
     ]
    }
   ],
   "source": [
    "print('------------------------Q1----------------------------')\n",
    "for i in range(10):\n",
    "    print(bing_q1_top10[i])\n",
    "    print(google_q1_top10[i])\n",
    "    print('###############')\n",
    "\n",
    "print(' ')\n",
    "print('------------------------Q2----------------------------')\n",
    "for i in range(10):\n",
    "    print(bing_q2_top10[i])\n",
    "    print(google_q2_top10[i])\n",
    "    print('###############')"
   ]
  },
  {
   "cell_type": "code",
   "execution_count": 29,
   "id": "excellent-northern",
   "metadata": {},
   "outputs": [],
   "source": [
    "def save_page(url, outfilename):\n",
    "    A = (\"Mozilla/5.0 (Windows NT 6.1) AppleWebKit/537.36 (KHTML, like Gecko) Chrome/41.0.2228.0 Safari/537.36\",\n",
    "           \"Mozilla/5.0 (Macintosh; Intel Mac OS X 10_10_1) AppleWebKit/537.36 (KHTML, like Gecko) Chrome/41.0.2227.1 Safari/537.36\",\n",
    "           \"Mozilla/5.0 (Windows NT 6.1; WOW64) AppleWebKit/537.36 (KHTML, like Gecko) Chrome/41.0.2227.0 Safari/537.36\",\n",
    "           )\n",
    "\n",
    "    Agent = A[random.randrange(len(A))]\n",
    "    headers = {'user-agent': Agent}\n",
    "    r = requests.get(url, headers=headers, verify=False)\n",
    "    if 'html' in r.headers.get('content-type'):\n",
    "        open(outfilename + '.html', 'wb').write(r.content)\n",
    "        return\n",
    "    if 'pdf' in r.headers.get('content-type'):\n",
    "        open(outfilename + '.pdf', 'wb').write(r.content)\n",
    "        return\n",
    "    print('URL is neither html nor pdf')"
   ]
  },
  {
   "cell_type": "code",
   "execution_count": 30,
   "id": "accomplished-context",
   "metadata": {},
   "outputs": [],
   "source": [
    "def crawl_target_results(serpdict, se='BING',querynum='1'):\n",
    "    for res in serpdict:\n",
    "        outfilename = 'tp/TP_' + se + '_' + querynum + '_' + str(res['rank']) + '_2020280598'\n",
    "        save_page(res['url'], outfilename)"
   ]
  },
  {
   "cell_type": "code",
   "execution_count": 27,
   "id": "precise-conversation",
   "metadata": {},
   "outputs": [
    {
     "data": {
      "text/plain": [
       "{'rank': 8,\n",
       " 'title': 'Chinese Embassy in Singapore: Address, Visa, Contact',\n",
       " 'url': 'https://www.travelchinaguide.com/embassy/singapore.htm'}"
      ]
     },
     "execution_count": 27,
     "metadata": {},
     "output_type": "execute_result"
    }
   ],
   "source": [
    "bing_q1_top10[7]"
   ]
  },
  {
   "cell_type": "code",
   "execution_count": 31,
   "id": "physical-rouge",
   "metadata": {},
   "outputs": [
    {
     "name": "stderr",
     "output_type": "stream",
     "text": [
      "/home/ykw/anaconda3/envs/ir/lib/python3.6/site-packages/requests/packages/urllib3/connectionpool.py:843: InsecureRequestWarning: Unverified HTTPS request is being made. Adding certificate verification is strongly advised. See: https://urllib3.readthedocs.io/en/latest/advanced-usage.html#ssl-warnings\n",
      "  InsecureRequestWarning)\n",
      "/home/ykw/anaconda3/envs/ir/lib/python3.6/site-packages/requests/packages/urllib3/connectionpool.py:843: InsecureRequestWarning: Unverified HTTPS request is being made. Adding certificate verification is strongly advised. See: https://urllib3.readthedocs.io/en/latest/advanced-usage.html#ssl-warnings\n",
      "  InsecureRequestWarning)\n",
      "/home/ykw/anaconda3/envs/ir/lib/python3.6/site-packages/requests/packages/urllib3/connectionpool.py:843: InsecureRequestWarning: Unverified HTTPS request is being made. Adding certificate verification is strongly advised. See: https://urllib3.readthedocs.io/en/latest/advanced-usage.html#ssl-warnings\n",
      "  InsecureRequestWarning)\n",
      "/home/ykw/anaconda3/envs/ir/lib/python3.6/site-packages/requests/packages/urllib3/connectionpool.py:843: InsecureRequestWarning: Unverified HTTPS request is being made. Adding certificate verification is strongly advised. See: https://urllib3.readthedocs.io/en/latest/advanced-usage.html#ssl-warnings\n",
      "  InsecureRequestWarning)\n",
      "/home/ykw/anaconda3/envs/ir/lib/python3.6/site-packages/requests/packages/urllib3/connectionpool.py:843: InsecureRequestWarning: Unverified HTTPS request is being made. Adding certificate verification is strongly advised. See: https://urllib3.readthedocs.io/en/latest/advanced-usage.html#ssl-warnings\n",
      "  InsecureRequestWarning)\n",
      "/home/ykw/anaconda3/envs/ir/lib/python3.6/site-packages/requests/packages/urllib3/connectionpool.py:843: InsecureRequestWarning: Unverified HTTPS request is being made. Adding certificate verification is strongly advised. See: https://urllib3.readthedocs.io/en/latest/advanced-usage.html#ssl-warnings\n",
      "  InsecureRequestWarning)\n",
      "/home/ykw/anaconda3/envs/ir/lib/python3.6/site-packages/requests/packages/urllib3/connectionpool.py:843: InsecureRequestWarning: Unverified HTTPS request is being made. Adding certificate verification is strongly advised. See: https://urllib3.readthedocs.io/en/latest/advanced-usage.html#ssl-warnings\n",
      "  InsecureRequestWarning)\n",
      "/home/ykw/anaconda3/envs/ir/lib/python3.6/site-packages/requests/packages/urllib3/connectionpool.py:843: InsecureRequestWarning: Unverified HTTPS request is being made. Adding certificate verification is strongly advised. See: https://urllib3.readthedocs.io/en/latest/advanced-usage.html#ssl-warnings\n",
      "  InsecureRequestWarning)\n",
      "/home/ykw/anaconda3/envs/ir/lib/python3.6/site-packages/requests/packages/urllib3/connectionpool.py:843: InsecureRequestWarning: Unverified HTTPS request is being made. Adding certificate verification is strongly advised. See: https://urllib3.readthedocs.io/en/latest/advanced-usage.html#ssl-warnings\n",
      "  InsecureRequestWarning)\n",
      "/home/ykw/anaconda3/envs/ir/lib/python3.6/site-packages/requests/packages/urllib3/connectionpool.py:843: InsecureRequestWarning: Unverified HTTPS request is being made. Adding certificate verification is strongly advised. See: https://urllib3.readthedocs.io/en/latest/advanced-usage.html#ssl-warnings\n",
      "  InsecureRequestWarning)\n",
      "/home/ykw/anaconda3/envs/ir/lib/python3.6/site-packages/requests/packages/urllib3/connectionpool.py:843: InsecureRequestWarning: Unverified HTTPS request is being made. Adding certificate verification is strongly advised. See: https://urllib3.readthedocs.io/en/latest/advanced-usage.html#ssl-warnings\n",
      "  InsecureRequestWarning)\n",
      "/home/ykw/anaconda3/envs/ir/lib/python3.6/site-packages/requests/packages/urllib3/connectionpool.py:843: InsecureRequestWarning: Unverified HTTPS request is being made. Adding certificate verification is strongly advised. See: https://urllib3.readthedocs.io/en/latest/advanced-usage.html#ssl-warnings\n",
      "  InsecureRequestWarning)\n",
      "/home/ykw/anaconda3/envs/ir/lib/python3.6/site-packages/requests/packages/urllib3/connectionpool.py:843: InsecureRequestWarning: Unverified HTTPS request is being made. Adding certificate verification is strongly advised. See: https://urllib3.readthedocs.io/en/latest/advanced-usage.html#ssl-warnings\n",
      "  InsecureRequestWarning)\n",
      "/home/ykw/anaconda3/envs/ir/lib/python3.6/site-packages/requests/packages/urllib3/connectionpool.py:843: InsecureRequestWarning: Unverified HTTPS request is being made. Adding certificate verification is strongly advised. See: https://urllib3.readthedocs.io/en/latest/advanced-usage.html#ssl-warnings\n",
      "  InsecureRequestWarning)\n",
      "/home/ykw/anaconda3/envs/ir/lib/python3.6/site-packages/requests/packages/urllib3/connectionpool.py:843: InsecureRequestWarning: Unverified HTTPS request is being made. Adding certificate verification is strongly advised. See: https://urllib3.readthedocs.io/en/latest/advanced-usage.html#ssl-warnings\n",
      "  InsecureRequestWarning)\n",
      "/home/ykw/anaconda3/envs/ir/lib/python3.6/site-packages/requests/packages/urllib3/connectionpool.py:843: InsecureRequestWarning: Unverified HTTPS request is being made. Adding certificate verification is strongly advised. See: https://urllib3.readthedocs.io/en/latest/advanced-usage.html#ssl-warnings\n",
      "  InsecureRequestWarning)\n",
      "/home/ykw/anaconda3/envs/ir/lib/python3.6/site-packages/requests/packages/urllib3/connectionpool.py:843: InsecureRequestWarning: Unverified HTTPS request is being made. Adding certificate verification is strongly advised. See: https://urllib3.readthedocs.io/en/latest/advanced-usage.html#ssl-warnings\n",
      "  InsecureRequestWarning)\n",
      "/home/ykw/anaconda3/envs/ir/lib/python3.6/site-packages/requests/packages/urllib3/connectionpool.py:843: InsecureRequestWarning: Unverified HTTPS request is being made. Adding certificate verification is strongly advised. See: https://urllib3.readthedocs.io/en/latest/advanced-usage.html#ssl-warnings\n",
      "  InsecureRequestWarning)\n",
      "/home/ykw/anaconda3/envs/ir/lib/python3.6/site-packages/requests/packages/urllib3/connectionpool.py:843: InsecureRequestWarning: Unverified HTTPS request is being made. Adding certificate verification is strongly advised. See: https://urllib3.readthedocs.io/en/latest/advanced-usage.html#ssl-warnings\n",
      "  InsecureRequestWarning)\n",
      "/home/ykw/anaconda3/envs/ir/lib/python3.6/site-packages/requests/packages/urllib3/connectionpool.py:843: InsecureRequestWarning: Unverified HTTPS request is being made. Adding certificate verification is strongly advised. See: https://urllib3.readthedocs.io/en/latest/advanced-usage.html#ssl-warnings\n",
      "  InsecureRequestWarning)\n",
      "/home/ykw/anaconda3/envs/ir/lib/python3.6/site-packages/requests/packages/urllib3/connectionpool.py:843: InsecureRequestWarning: Unverified HTTPS request is being made. Adding certificate verification is strongly advised. See: https://urllib3.readthedocs.io/en/latest/advanced-usage.html#ssl-warnings\n",
      "  InsecureRequestWarning)\n",
      "/home/ykw/anaconda3/envs/ir/lib/python3.6/site-packages/requests/packages/urllib3/connectionpool.py:843: InsecureRequestWarning: Unverified HTTPS request is being made. Adding certificate verification is strongly advised. See: https://urllib3.readthedocs.io/en/latest/advanced-usage.html#ssl-warnings\n",
      "  InsecureRequestWarning)\n",
      "/home/ykw/anaconda3/envs/ir/lib/python3.6/site-packages/requests/packages/urllib3/connectionpool.py:843: InsecureRequestWarning: Unverified HTTPS request is being made. Adding certificate verification is strongly advised. See: https://urllib3.readthedocs.io/en/latest/advanced-usage.html#ssl-warnings\n",
      "  InsecureRequestWarning)\n",
      "/home/ykw/anaconda3/envs/ir/lib/python3.6/site-packages/requests/packages/urllib3/connectionpool.py:843: InsecureRequestWarning: Unverified HTTPS request is being made. Adding certificate verification is strongly advised. See: https://urllib3.readthedocs.io/en/latest/advanced-usage.html#ssl-warnings\n",
      "  InsecureRequestWarning)\n",
      "/home/ykw/anaconda3/envs/ir/lib/python3.6/site-packages/requests/packages/urllib3/connectionpool.py:843: InsecureRequestWarning: Unverified HTTPS request is being made. Adding certificate verification is strongly advised. See: https://urllib3.readthedocs.io/en/latest/advanced-usage.html#ssl-warnings\n",
      "  InsecureRequestWarning)\n",
      "/home/ykw/anaconda3/envs/ir/lib/python3.6/site-packages/requests/packages/urllib3/connectionpool.py:843: InsecureRequestWarning: Unverified HTTPS request is being made. Adding certificate verification is strongly advised. See: https://urllib3.readthedocs.io/en/latest/advanced-usage.html#ssl-warnings\n",
      "  InsecureRequestWarning)\n",
      "/home/ykw/anaconda3/envs/ir/lib/python3.6/site-packages/requests/packages/urllib3/connectionpool.py:843: InsecureRequestWarning: Unverified HTTPS request is being made. Adding certificate verification is strongly advised. See: https://urllib3.readthedocs.io/en/latest/advanced-usage.html#ssl-warnings\n",
      "  InsecureRequestWarning)\n",
      "/home/ykw/anaconda3/envs/ir/lib/python3.6/site-packages/requests/packages/urllib3/connectionpool.py:843: InsecureRequestWarning: Unverified HTTPS request is being made. Adding certificate verification is strongly advised. See: https://urllib3.readthedocs.io/en/latest/advanced-usage.html#ssl-warnings\n",
      "  InsecureRequestWarning)\n",
      "/home/ykw/anaconda3/envs/ir/lib/python3.6/site-packages/requests/packages/urllib3/connectionpool.py:843: InsecureRequestWarning: Unverified HTTPS request is being made. Adding certificate verification is strongly advised. See: https://urllib3.readthedocs.io/en/latest/advanced-usage.html#ssl-warnings\n",
      "  InsecureRequestWarning)\n",
      "/home/ykw/anaconda3/envs/ir/lib/python3.6/site-packages/requests/packages/urllib3/connectionpool.py:843: InsecureRequestWarning: Unverified HTTPS request is being made. Adding certificate verification is strongly advised. See: https://urllib3.readthedocs.io/en/latest/advanced-usage.html#ssl-warnings\n",
      "  InsecureRequestWarning)\n",
      "/home/ykw/anaconda3/envs/ir/lib/python3.6/site-packages/requests/packages/urllib3/connectionpool.py:843: InsecureRequestWarning: Unverified HTTPS request is being made. Adding certificate verification is strongly advised. See: https://urllib3.readthedocs.io/en/latest/advanced-usage.html#ssl-warnings\n",
      "  InsecureRequestWarning)\n",
      "/home/ykw/anaconda3/envs/ir/lib/python3.6/site-packages/requests/packages/urllib3/connectionpool.py:843: InsecureRequestWarning: Unverified HTTPS request is being made. Adding certificate verification is strongly advised. See: https://urllib3.readthedocs.io/en/latest/advanced-usage.html#ssl-warnings\n",
      "  InsecureRequestWarning)\n",
      "/home/ykw/anaconda3/envs/ir/lib/python3.6/site-packages/requests/packages/urllib3/connectionpool.py:843: InsecureRequestWarning: Unverified HTTPS request is being made. Adding certificate verification is strongly advised. See: https://urllib3.readthedocs.io/en/latest/advanced-usage.html#ssl-warnings\n",
      "  InsecureRequestWarning)\n",
      "/home/ykw/anaconda3/envs/ir/lib/python3.6/site-packages/requests/packages/urllib3/connectionpool.py:843: InsecureRequestWarning: Unverified HTTPS request is being made. Adding certificate verification is strongly advised. See: https://urllib3.readthedocs.io/en/latest/advanced-usage.html#ssl-warnings\n",
      "  InsecureRequestWarning)\n"
     ]
    }
   ],
   "source": [
    "#crawl target pages\n",
    "crawl_target_results(bing_q1_top10, se='BING',querynum='1')\n",
    "crawl_target_results(bing_q2_top10, se='BING',querynum='2')\n",
    "crawl_target_results(google_q1_top10, se='GOOGLE',querynum='1')\n",
    "crawl_target_results(google_q2_top10, se='GOOGLE',querynum='2')"
   ]
  }
 ],
 "metadata": {
  "kernelspec": {
   "display_name": "Python 3",
   "language": "python",
   "name": "python3"
  },
  "language_info": {
   "codemirror_mode": {
    "name": "ipython",
    "version": 3
   },
   "file_extension": ".py",
   "mimetype": "text/x-python",
   "name": "python",
   "nbconvert_exporter": "python",
   "pygments_lexer": "ipython3",
   "version": "3.6.13"
  }
 },
 "nbformat": 4,
 "nbformat_minor": 5
}
