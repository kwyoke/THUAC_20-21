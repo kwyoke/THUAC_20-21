{
 "cells": [
  {
   "cell_type": "code",
   "execution_count": 1,
   "metadata": {},
   "outputs": [],
   "source": [
    "'''\n",
    "Relied on https://github.com/wangg12/IRLS_tensorflow2/blob/master/src/IRLS_tf.py\n",
    "But reimplemented using numpy only\n",
    "'''\n",
    "\n",
    "import numpy as np\n",
    "import matplotlib.pyplot as plt\n",
    "from sklearn.datasets import load_svmlight_file"
   ]
  },
  {
   "cell_type": "code",
   "execution_count": 15,
   "metadata": {},
   "outputs": [],
   "source": [
    "#set variables and environment\n",
    "\n",
    "path_train = 'a9a/a9a'\n",
    "path_test = 'a9a/a9a.t'\n",
    "\n",
    "MAX_ITER = 100\n",
    "MIN_W_CHANGE = 0.001\n",
    "np_dtype = np.float32"
   ]
  },
  {
   "cell_type": "code",
   "execution_count": 3,
   "metadata": {},
   "outputs": [
    {
     "name": "stdout",
     "output_type": "stream",
     "text": [
      "(32561, 123)\n",
      "(16281, 123)\n"
     ]
    }
   ],
   "source": [
    "# load all data\n",
    "X_train, y_train = load_svmlight_file(path_train, n_features=123, dtype=np_dtype)\n",
    "X_test, y_test = load_svmlight_file(path_test, n_features=123, dtype=np_dtype)\n",
    "print(X_train.shape)\n",
    "print(X_test.shape)"
   ]
  },
  {
   "cell_type": "code",
   "execution_count": 4,
   "metadata": {},
   "outputs": [],
   "source": [
    "# w has one more element for bias, so \n",
    "# stack a dimension of ones to X to simplify computation\n",
    "N_train = X_train.shape[0]\n",
    "N_test = X_test.shape[0]\n",
    "X_train = np.hstack((np.ones((N_train, 1)), X_train.toarray()))\n",
    "X_test = np.hstack((np.ones((N_test, 1)), X_test.toarray()))"
   ]
  },
  {
   "cell_type": "code",
   "execution_count": 5,
   "metadata": {},
   "outputs": [],
   "source": [
    "#reformatting target labels\n",
    "y_train = y_train.reshape((N_train, 1))\n",
    "y_test = y_test.reshape((N_test, 1))\n",
    "\n",
    "# label: -1, +1 ==> 0, 1\n",
    "y_train = np.where(y_train == -1, 0, 1)\n",
    "y_test = np.where(y_test == -1, 0, 1)"
   ]
  },
  {
   "cell_type": "code",
   "execution_count": 30,
   "metadata": {},
   "outputs": [],
   "source": [
    "def prob(X, w):\n",
    "    \"\"\"\n",
    "  X: Nxd\n",
    "  w: dx1\n",
    "  ---\n",
    "  prob: N x num_classes(2)\"\"\"\n",
    "    y = np.array([0.0, 1.0], dtype=np_dtype)\n",
    "    prob = np.exp(np.multiply(np.matmul(X, w), y))/(1 + np.exp(np.matmul(X, w)))\n",
    "    return prob"
   ]
  },
  {
   "cell_type": "code",
   "execution_count": 8,
   "metadata": {},
   "outputs": [],
   "source": [
    "def compute_acc(X, y, w):\n",
    "    p = prob(X, w)\n",
    "    y_pred = np.argmax(p, axis=1)\n",
    "    acc = np.sum(y_pred == y)/y.shape[0]\n",
    "    return acc"
   ]
  },
  {
   "cell_type": "code",
   "execution_count": 9,
   "metadata": {},
   "outputs": [],
   "source": [
    "def sigmoid(x):\n",
    "    z = 1/(1 + np.exp(-x)) \n",
    "    return z"
   ]
  },
  {
   "cell_type": "code",
   "execution_count": 31,
   "metadata": {},
   "outputs": [],
   "source": [
    "def update(w_old, X, y, L2_param=0):\n",
    "    \"\"\"\n",
    "  w_new = w_old - w_update\n",
    "  w_update = (X'RX+lambda*I)^(-1) (X'(mu-y) + lambda*w_old)\n",
    "  lambda is L2_param\n",
    "      L2_param: \\lambda>0, will introduce -\\lambda/2 ||w||_2^2\n",
    "  w_old: dx1\n",
    "  X: Nxd\n",
    "  y: Nx1\n",
    "  ---\n",
    "  w_new: dx1\n",
    "  \"\"\"\n",
    "    N, d = X.shape\n",
    "    mu = sigmoid(np.matmul(X, w_old)) # Nx1\n",
    "\n",
    "    R_flat = np.multiply(mu, 1-mu) # element-wise, Nx1\n",
    "    R_diag = np.diag(R_flat[:,0]) # NxN\n",
    "  \n",
    "\n",
    "    L2_reg_term = L2_param * np.eye(d)\n",
    "    XRX = np.matmul(np.matmul(np.transpose(X), R_diag), X) + L2_reg_term # dxd\n",
    "    \n",
    "    # calculate pseudo inverse via SVD\n",
    "    XRX_pinv = np.linalg.pinv(XRX)\n",
    "    \n",
    "    w_update = np.matmul(XRX_pinv, \n",
    "                         np.matmul(np.transpose(X), mu - y) + L2_param*w_old)\n",
    "    w_new = w_old - w_update\n",
    "    \n",
    "    return w_new"
   ]
  },
  {
   "cell_type": "code",
   "execution_count": 19,
   "metadata": {},
   "outputs": [],
   "source": [
    "def train_IRLS(\n",
    "    X_train, y_train, X_test, y_test, L2_param=0, max_iter=MAX_ITER, min_w_change = MIN_W_CHANGE\n",
    "):\n",
    "    \"\"\"train Logistic Regression via IRLS algorithm\n",
    "  X: Nxd\n",
    "  y: Nx1\n",
    "  ---\n",
    "  \"\"\"\n",
    "    N, d = X_train.shape\n",
    "    w = 0.01*np.ones((d,1), dtype = np_dtype) # arbitrary init\n",
    "    \n",
    "    l2_wnorms = []\n",
    "    accs_train = []\n",
    "    accs_test = []\n",
    "    \n",
    "    print(\"start training...\")\n",
    "    print(\"L2 param(lambda): {}\".format(L2_param))\n",
    "    i = 0\n",
    "    # iteration\n",
    "    w_old = w\n",
    "    w_new = w_old.copy()*1000 # random init\n",
    "    while (i <= max_iter) or (np.linalg.norm(w_new - w_old)>min_w_change):\n",
    "        print(\"iter: {}\".format(i))\n",
    "        \n",
    "        w_old = w_new.copy()\n",
    "        w_new = update(w_old, X_train, y_train, L2_param)\n",
    "        \n",
    "        acc_train = compute_acc(X_train, y_train, w_new)\n",
    "        acc_test = compute_acc(X_test, y_test, w_new)\n",
    "        \n",
    "        l2_wnorms.append(np.linalg.norm(w_new))\n",
    "        accs_train.append(acc_train)\n",
    "        accs_test.append(acc_test)\n",
    "        \n",
    "        i+=1\n",
    "\n",
    "        \n",
    "    print(\"training done.\")\n",
    "    return w_new, l2_wnorms, accs_train, accs_test"
   ]
  },
  {
   "cell_type": "code",
   "execution_count": 32,
   "metadata": {},
   "outputs": [
    {
     "name": "stdout",
     "output_type": "stream",
     "text": [
      "start training...\n",
      "L2 param(lambda): 0\n",
      "iter: 0\n",
      "iter: 0\n",
      "iter: 0\n"
     ]
    },
    {
     "ename": "KeyboardInterrupt",
     "evalue": "",
     "output_type": "error",
     "traceback": [
      "\u001b[0;31m---------------------------------------------------------------------------\u001b[0m",
      "\u001b[0;31mKeyboardInterrupt\u001b[0m                         Traceback (most recent call last)",
      "\u001b[0;32m<ipython-input-32-9d81d9daf9d7>\u001b[0m in \u001b[0;36m<module>\u001b[0;34m\u001b[0m\n\u001b[1;32m      1\u001b[0m w_new, l2_wnorms, accs_train, accs_test = train_IRLS(\n\u001b[0;32m----> 2\u001b[0;31m     \u001b[0mX_train\u001b[0m\u001b[0;34m,\u001b[0m \u001b[0my_train\u001b[0m\u001b[0;34m,\u001b[0m \u001b[0mX_test\u001b[0m\u001b[0;34m,\u001b[0m \u001b[0my_test\u001b[0m\u001b[0;34m,\u001b[0m \u001b[0mL2_param\u001b[0m\u001b[0;34m=\u001b[0m\u001b[0;36m0\u001b[0m\u001b[0;34m,\u001b[0m \u001b[0mmax_iter\u001b[0m\u001b[0;34m=\u001b[0m\u001b[0mMAX_ITER\u001b[0m\u001b[0;34m,\u001b[0m \u001b[0mmin_w_change\u001b[0m \u001b[0;34m=\u001b[0m \u001b[0mMIN_W_CHANGE\u001b[0m\u001b[0;34m\u001b[0m\u001b[0;34m\u001b[0m\u001b[0m\n\u001b[0m\u001b[1;32m      3\u001b[0m )\n",
      "\u001b[0;32m<ipython-input-19-8c751fbe4324>\u001b[0m in \u001b[0;36mtrain_IRLS\u001b[0;34m(X_train, y_train, X_test, y_test, L2_param, max_iter, min_w_change)\u001b[0m\n\u001b[1;32m     24\u001b[0m \u001b[0;34m\u001b[0m\u001b[0m\n\u001b[1;32m     25\u001b[0m         \u001b[0mw_old\u001b[0m \u001b[0;34m=\u001b[0m \u001b[0mw_new\u001b[0m\u001b[0;34m.\u001b[0m\u001b[0mcopy\u001b[0m\u001b[0;34m(\u001b[0m\u001b[0;34m)\u001b[0m\u001b[0;34m\u001b[0m\u001b[0;34m\u001b[0m\u001b[0m\n\u001b[0;32m---> 26\u001b[0;31m         \u001b[0mw_new\u001b[0m \u001b[0;34m=\u001b[0m \u001b[0mupdate\u001b[0m\u001b[0;34m(\u001b[0m\u001b[0mw_old\u001b[0m\u001b[0;34m,\u001b[0m \u001b[0mX_train\u001b[0m\u001b[0;34m,\u001b[0m \u001b[0my_train\u001b[0m\u001b[0;34m,\u001b[0m \u001b[0mL2_param\u001b[0m\u001b[0;34m)\u001b[0m\u001b[0;34m\u001b[0m\u001b[0;34m\u001b[0m\u001b[0m\n\u001b[0m\u001b[1;32m     27\u001b[0m \u001b[0;34m\u001b[0m\u001b[0m\n\u001b[1;32m     28\u001b[0m         \u001b[0macc_train\u001b[0m \u001b[0;34m=\u001b[0m \u001b[0mcompute_acc\u001b[0m\u001b[0;34m(\u001b[0m\u001b[0mX_train\u001b[0m\u001b[0;34m,\u001b[0m \u001b[0my_train\u001b[0m\u001b[0;34m,\u001b[0m \u001b[0mw_new\u001b[0m\u001b[0;34m)\u001b[0m\u001b[0;34m\u001b[0m\u001b[0;34m\u001b[0m\u001b[0m\n",
      "\u001b[0;32m<ipython-input-31-a661c7d55309>\u001b[0m in \u001b[0;36mupdate\u001b[0;34m(w_old, X, y, L2_param)\u001b[0m\n\u001b[1;32m     19\u001b[0m \u001b[0;34m\u001b[0m\u001b[0m\n\u001b[1;32m     20\u001b[0m     \u001b[0mL2_reg_term\u001b[0m \u001b[0;34m=\u001b[0m \u001b[0mL2_param\u001b[0m \u001b[0;34m*\u001b[0m \u001b[0mnp\u001b[0m\u001b[0;34m.\u001b[0m\u001b[0meye\u001b[0m\u001b[0;34m(\u001b[0m\u001b[0md\u001b[0m\u001b[0;34m)\u001b[0m\u001b[0;34m\u001b[0m\u001b[0;34m\u001b[0m\u001b[0m\n\u001b[0;32m---> 21\u001b[0;31m     \u001b[0mXRX\u001b[0m \u001b[0;34m=\u001b[0m \u001b[0mnp\u001b[0m\u001b[0;34m.\u001b[0m\u001b[0mmatmul\u001b[0m\u001b[0;34m(\u001b[0m\u001b[0mnp\u001b[0m\u001b[0;34m.\u001b[0m\u001b[0mmatmul\u001b[0m\u001b[0;34m(\u001b[0m\u001b[0mnp\u001b[0m\u001b[0;34m.\u001b[0m\u001b[0mtranspose\u001b[0m\u001b[0;34m(\u001b[0m\u001b[0mX\u001b[0m\u001b[0;34m)\u001b[0m\u001b[0;34m,\u001b[0m \u001b[0mR_diag\u001b[0m\u001b[0;34m)\u001b[0m\u001b[0;34m,\u001b[0m \u001b[0mX\u001b[0m\u001b[0;34m)\u001b[0m \u001b[0;34m+\u001b[0m \u001b[0mL2_reg_term\u001b[0m \u001b[0;31m# dxd\u001b[0m\u001b[0;34m\u001b[0m\u001b[0;34m\u001b[0m\u001b[0m\n\u001b[0m\u001b[1;32m     22\u001b[0m \u001b[0;34m\u001b[0m\u001b[0m\n\u001b[1;32m     23\u001b[0m     \u001b[0;31m# calculate pseudo inverse via SVD\u001b[0m\u001b[0;34m\u001b[0m\u001b[0;34m\u001b[0m\u001b[0;34m\u001b[0m\u001b[0m\n",
      "\u001b[0;31mKeyboardInterrupt\u001b[0m: "
     ]
    }
   ],
   "source": [
    "w_new, l2_wnorms, accs_train, accs_test = train_IRLS(\n",
    "    X_train, y_train, X_test, y_test, L2_param=0, max_iter=MAX_ITER, min_w_change = MIN_W_CHANGE\n",
    ")"
   ]
  }
 ],
 "metadata": {
  "kernelspec": {
   "display_name": "Python 3",
   "language": "python",
   "name": "python3"
  },
  "language_info": {
   "codemirror_mode": {
    "name": "ipython",
    "version": 3
   },
   "file_extension": ".py",
   "mimetype": "text/x-python",
   "name": "python",
   "nbconvert_exporter": "python",
   "pygments_lexer": "ipython3",
   "version": "3.6.9"
  }
 },
 "nbformat": 4,
 "nbformat_minor": 4
}
